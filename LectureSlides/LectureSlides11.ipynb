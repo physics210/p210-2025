{
 "cells": [
  {
   "cell_type": "markdown",
   "metadata": {
    "slideshow": {
     "slide_type": "slide"
    }
   },
   "source": [
    "# PHYS 210 Day 11 - Oct 08, 2025\n",
    "Agenda:\n",
    "\n",
    "1. Reading recap, Q&A and polling questions\n",
    "1. Discussion of Project 02\n",
    "1. In-class: finish Worksheet 10 if you haven't + Worksheet 11"
   ]
  },
  {
   "cell_type": "markdown",
   "metadata": {
    "slideshow": {
     "slide_type": "slide"
    }
   },
   "source": [
    "## Reading recap: more arrays\n",
    "\n",
    "* Array filtering (coming up in the Q&A): \n",
    "  - `a>0` this is a mask: gives True/False array according to the condition `a>0`\n",
    "  - `b = a[[1,3,5]]` gives an array of the 2nd, 4th, and 6th elements of `a`\n",
    "  - `b = np.where(a>0)` – gives the indicies in `a` where this condition is met\n",
    "* Array sorting: see `np.sort`\n",
    "* NumPy-compliant operations and functions\n",
    "* np.meshgrid()"
   ]
  },
  {
   "cell_type": "markdown",
   "metadata": {
    "slideshow": {
     "slide_type": "slide"
    }
   },
   "source": [
    "## Reading recap: more plotting\n",
    "\n",
    "* `plt.imshow()` to show a 2d function (up/down are reversed)\n",
    "* `plt.contourf()` to make a contour plot"
   ]
  },
  {
   "cell_type": "markdown",
   "metadata": {
    "slideshow": {
     "slide_type": "slide"
    }
   },
   "source": [
    "## Reading recap: long lines\n",
    "\n",
    "* Unmatched parentheses imply continuation,\n",
    "* `\\` at the end of a line forces continuation"
   ]
  },
  {
   "cell_type": "markdown",
   "metadata": {
    "slideshow": {
     "slide_type": "slide"
    }
   },
   "source": [
    "## Reading recap: while loops\n",
    "\n",
    "* Better suited to situations where the number of iterations isn't known ahead of time, especially when the upper limit isn't known\n",
    "* Need to be VERY CAREFUL about infinite loops"
   ]
  },
  {
   "cell_type": "markdown",
   "metadata": {
    "slideshow": {
     "slide_type": "slide"
    }
   },
   "source": [
    "## Reading 11 Q&A"
   ]
  },
  {
   "cell_type": "markdown",
   "metadata": {
    "slideshow": {
     "slide_type": "slide"
    }
   },
   "source": [
    "**Q:** Could you review how np.meshgrid is interacting with arrays as inputs? I'm a little confused how it got the outputs that we saw in the question\n",
    "\n",
    "\n",
    "**A:** `meshgrid` is a quick way to set up grids of x and y pairs that cover some region of 2d space. It takes two 1D arrays and repeats one of them as rows and the other is repeated as columns. For example, with `x = [1,2,3]` and `y=[-2,-1,0,1,2]` meshgrid will give two arrays, pairs of x and y values organized in a regular grid: `x_new, y_new = np.meshgrid(x,y)` gives...\n",
    "```\n",
    "1 2 3        -2 -2 -2\n",
    "1 2 3        -1 -1 -1\n",
    "1 2 3   and   0  0  0\n",
    "1 2 3         1  1  1\n",
    "1 2 3         2  2  2\n",
    "```\n"
   ]
  },
  {
   "cell_type": "markdown",
   "metadata": {
    "slideshow": {
     "slide_type": "slide"
    }
   },
   "source": [
    "You can then use these values to create a new array of the same shape, based on the values in those arrays\n",
    "```\n",
    "1 2 3    -2 -2 -2      f(1,-2) f(2,-2) f(3,-2)\n",
    "1 2 3    -1 -1 -1      f(1,-1) f(2,-1) f(3,-1)\n",
    "1 2 3  &  0  0  0  =>  f(1, 0) f(2, 0) f(3, 0)\n",
    "1 2 3     1  1  1      f(1, 1) f(2, 1) f(3, 1)\n",
    "1 2 3     2  2  2      f(1, 2) f(2, 2) f(3, 2)\n",
    "```\n"
   ]
  },
  {
   "cell_type": "markdown",
   "metadata": {
    "slideshow": {
     "slide_type": "slide"
    }
   },
   "source": [
    "### Q. I'm confused about `a>0` vs `np.where(a>0)`"
   ]
  },
  {
   "cell_type": "code",
   "execution_count": null,
   "metadata": {
    "slideshow": {
     "slide_type": "-"
    }
   },
   "outputs": [],
   "source": [
    "import numpy as np \n",
    "arr = np.array([1, 2, 3, 4])\n",
    "mask = arr<3 # outputs an array of booleans the same size/shape of a"
   ]
  },
  {
   "cell_type": "code",
   "execution_count": null,
   "metadata": {},
   "outputs": [],
   "source": [
    "print(\"mask =\", mask)\n",
    "print(\"If we apply the mask to the array:\", arr[mask])"
   ]
  },
  {
   "cell_type": "code",
   "execution_count": null,
   "metadata": {
    "slideshow": {
     "slide_type": "fragment"
    }
   },
   "outputs": [],
   "source": [
    "# Returns a tuple where the first and only element is an that array tells us the \n",
    "# indices for 'arr' where the '<3' condition is met. Similar to arr[mask] above\n",
    "np.where(arr<3) \n"
   ]
  },
  {
   "cell_type": "markdown",
   "metadata": {
    "slideshow": {
     "slide_type": "slide"
    }
   },
   "source": [
    "**Why does `np.where()` act this way?** It has a different functionality when we pass it three arguments. Instead it functions as a conditional that returns an <u>array</u> (not a tuple) of the same shape as the original"
   ]
  },
  {
   "cell_type": "code",
   "execution_count": null,
   "metadata": {},
   "outputs": [],
   "source": [
    "arr = np.array([1, 2, 3, 4])\n",
    "arr2 = np.where(arr<3, # if this condition\n",
    "                -arr,  # then fill element with this\n",
    "                arr)   # else fill element with this\n",
    "arr2"
   ]
  },
  {
   "cell_type": "markdown",
   "metadata": {
    "slideshow": {
     "slide_type": "slide"
    }
   },
   "source": [
    "### More `np.where()`"
   ]
  },
  {
   "cell_type": "code",
   "execution_count": null,
   "metadata": {},
   "outputs": [],
   "source": [
    "print(arr)"
   ]
  },
  {
   "cell_type": "code",
   "execution_count": null,
   "metadata": {
    "slideshow": {
     "slide_type": "fragment"
    }
   },
   "outputs": [],
   "source": [
    "t0 = np.where(arr<3) # np.where gives indices, similar to masks\n",
    "print(t0)"
   ]
  },
  {
   "cell_type": "code",
   "execution_count": null,
   "metadata": {
    "slideshow": {
     "slide_type": "fragment"
    }
   },
   "outputs": [],
   "source": [
    "i1, = np.where(arr<3)   # works nicely. \n",
    "print(i1)"
   ]
  },
  {
   "cell_type": "code",
   "execution_count": null,
   "metadata": {
    "slideshow": {
     "slide_type": "fragment"
    }
   },
   "outputs": [],
   "source": [
    "i2 = np.where(arr<3)[0] # Grabs the array of indicies we care about.\n",
    "print(i2)"
   ]
  },
  {
   "cell_type": "markdown",
   "metadata": {
    "slideshow": {
     "slide_type": "slide"
    }
   },
   "source": [
    "### Array filtering works with masks and np.where"
   ]
  },
  {
   "cell_type": "code",
   "execution_count": null,
   "metadata": {
    "slideshow": {
     "slide_type": "-"
    }
   },
   "outputs": [],
   "source": [
    "print( arr[arr<3] )\n",
    "print( arr[np.where(arr<3)] )"
   ]
  },
  {
   "cell_type": "markdown",
   "metadata": {
    "slideshow": {
     "slide_type": "slide"
    }
   },
   "source": [
    "**Polling Q11.1** Which one will produce an error if called with an array as an argument?\n",
    "```\n",
    "def f_1(x):                    def f_2(x):\n",
    "    y = x*x + 1                  y = np.ones(x.size)\n",
    "\treturn y                     y[x != 0] = np.sin(x[x != 0])/x[x != 0]\n",
    "                                 return y\n",
    "\n",
    "def f_3(x):                    def f_4(x):\n",
    "\tfor v in x:                  if (x != 0):\n",
    "\t\tif v != 0:                   y = np.sin(x)/x                   \n",
    "\t\t\tv = np.sin(v)/v      else:\n",
    "\t\telse:                        y = 1\n",
    "\t\t\tv = 1                return y\n",
    "\treturn x\n",
    "```"
   ]
  },
  {
   "cell_type": "markdown",
   "metadata": {
    "slideshow": {
     "slide_type": "slide"
    }
   },
   "source": [
    "**Polling Q11.1** Which one will produce an error if called with an array as an argument?\n",
    "\n",
    "This produces an error because the condition applied to an array will have multiple values – one for each element"
   ]
  },
  {
   "cell_type": "code",
   "execution_count": null,
   "metadata": {},
   "outputs": [],
   "source": [
    "def f_4(x):\n",
    "    if (x != 0):\n",
    "        y = np.sin(x)/x                   \n",
    "    else:\n",
    "        y = 1\n",
    "    return y\n",
    "\n",
    "import numpy as np\n",
    "\n",
    "my_return = f_4( np.array([1,2,3]) )\n",
    "print(my_return)"
   ]
  },
  {
   "cell_type": "markdown",
   "metadata": {
    "slideshow": {
     "slide_type": "slide"
    }
   },
   "source": [
    "## While Loops"
   ]
  },
  {
   "cell_type": "markdown",
   "metadata": {
    "slideshow": {
     "slide_type": "-"
    }
   },
   "source": [
    "**Poll 11.2:** How many times will hello be printed?\n",
    "```python\n",
    "x = 1\n",
    "while (x < 5):\n",
    "    print(\"hello\")\n",
    "```\n",
    "A) 0 times<br>\n",
    "B) 4 times<br>\n",
    "C) 5 times<br>\n",
    "D) 6 times<br>\n",
    "E) It will keep printing forever"
   ]
  },
  {
   "cell_type": "markdown",
   "metadata": {
    "slideshow": {
     "slide_type": "slide"
    }
   },
   "source": [
    "**Poll 11.3:** How many times will hello be printed?"
   ]
  },
  {
   "cell_type": "code",
   "execution_count": null,
   "metadata": {},
   "outputs": [],
   "source": [
    "x = 1\n",
    "while (x < 5):\n",
    "    print(\"hello\")\n",
    "    x = x + 1"
   ]
  },
  {
   "cell_type": "markdown",
   "metadata": {},
   "source": [
    "A) 0 times<br>\n",
    "B) 4 times<br>\n",
    "C) 5 times<br>\n",
    "D) 6 times<br>\n",
    "E) It will keep printing forever"
   ]
  },
  {
   "cell_type": "markdown",
   "metadata": {
    "slideshow": {
     "slide_type": "slide"
    }
   },
   "source": [
    "# Let's discuss Project 02: Stable orbits in the Saturnian atomic model"
   ]
  },
  {
   "cell_type": "markdown",
   "metadata": {
    "slideshow": {
     "slide_type": "slide"
    }
   },
   "source": [
    "The goal of this project:\n",
    "* Develop and answer a research question that guides a **phase-space investigation** related to stable orbits in the Saturnian atomic model using `solve_ivp`.\n",
    "\n",
    "The emphasis of this project is on the quality and depth of your investigation, instead of additional physics or extending the context."
   ]
  },
  {
   "cell_type": "markdown",
   "metadata": {
    "slideshow": {
     "slide_type": "slide"
    }
   },
   "source": [
    "A bit more about the project:\n",
    "* A key challenge is to develop code that discriminates between stable and unstable orbits.\n",
    "* Your project must include a minimum of three particles: \n",
    "   - One electron and two fixed-position nuclei, or \n",
    "   - One fixed-position nucleus and two orbiting electrons\n",
    "  \n",
    "Phase-space exploration: finding ranges of initial conditions over which stable orbits occur, paying detailed attention to values near where things transition from stable to unstable orbits."
   ]
  },
  {
   "cell_type": "markdown",
   "metadata": {
    "slideshow": {
     "slide_type": "slide"
    }
   },
   "source": [
    "## Project 02 timeline\n",
    "| | |\n",
    "| :--- | :--- |\n",
    "| Wed., Oct. 15 (Day 12) | Homework 11, Part 2 due before class (Build a stable orbit of an electron around a proton using `solve_ivp`).<br><br> Work on Project 02 during class time|\n",
    "| Mon., Oct. 20 (Day 13)| Submit a feedback draft before class for engagement points.<br><br>Part of our class time will be spent on a peer feedback activity with engagement points coming from briefly sharing the feedback you received with the teaching team. |\n",
    "| Wed., Oct. 22 | Work on Project 02 during class time |\n",
    "| Thu., Oct. 23 | Project submission deadline #4 |\n",
    "| Thu., Oct. 30 | Project submission deadline #5 |"
   ]
  },
  {
   "cell_type": "markdown",
   "metadata": {
    "slideshow": {
     "slide_type": "slide"
    }
   },
   "source": [
    "## The rest of the day\n",
    "* Finish Worksheet 10 if you haven't already done so\n",
    "* Finish Worksheet 11\n",
    "* Two-part homework assignment (both due Oct 15):\n",
    "   - Part 1: Follow-up on Preclass 11 and Worksheet 11\n",
    "   - Part 2: Get started on Project 02 by creating a stable orbit of an electron around a proton"
   ]
  }
 ],
 "metadata": {
  "celltoolbar": "Slideshow",
  "kernelspec": {
   "display_name": "Python 3",
   "language": "python",
   "name": "python3"
  },
  "language_info": {
   "codemirror_mode": {
    "name": "ipython",
    "version": 3
   },
   "file_extension": ".py",
   "mimetype": "text/x-python",
   "name": "python",
   "nbconvert_exporter": "python",
   "pygments_lexer": "ipython3",
   "version": "3.7.6"
  }
 },
 "nbformat": 4,
 "nbformat_minor": 4
}
