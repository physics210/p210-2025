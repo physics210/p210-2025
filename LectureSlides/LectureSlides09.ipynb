{
 "cells": [
  {
   "cell_type": "markdown",
   "metadata": {
    "slideshow": {
     "slide_type": "slide"
    }
   },
   "source": [
    "# PHYS 210 Lecture 09 - Oct 01, 2025\n",
    "Agenda:\n",
    "\n",
    "1. Announcements\n",
    "1. Story time\n",
    "1. Reading recap (Q&A and polling questions)\n",
    "1. Groupwork (Electric Field Hockey!)"
   ]
  },
  {
   "cell_type": "markdown",
   "metadata": {
    "slideshow": {
     "slide_type": "slide"
    }
   },
   "source": [
    "# Engagement points\n",
    "* 70% = max credit rule\n",
    "* Logistical questions: \"I'm sick, what am I supposed to do?\"\n",
    "     - Please check the syllabus and post logistical questions to Piazza"
   ]
  },
  {
   "cell_type": "markdown",
   "metadata": {
    "slideshow": {
     "slide_type": "slide"
    }
   },
   "source": [
    "# PhD story time\n",
    "* Project funding challenges\n",
    "* Coming to love where things ended up"
   ]
  },
  {
   "cell_type": "markdown",
   "metadata": {
    "slideshow": {
     "slide_type": "slide"
    }
   },
   "source": [
    "## Q&A and polling questions"
   ]
  },
  {
   "cell_type": "markdown",
   "metadata": {
    "slideshow": {
     "slide_type": "slide"
    }
   },
   "source": [
    "**Poll Q1:** What are the possible return values of the following function?\n",
    "You may assume x is a number. "
   ]
  },
  {
   "cell_type": "code",
   "execution_count": null,
   "metadata": {},
   "outputs": [],
   "source": [
    "def check_x(x):\n",
    "    if x<0 and x> -4:\n",
    "        return 0\n",
    "    elif x < -4:\n",
    "        return 1\n"
   ]
  },
  {
   "cell_type": "markdown",
   "metadata": {},
   "source": [
    "A) `0` or `1` or `None`<br>\n",
    "B) Syntax error<br>\n",
    "C) `0` or `1`<br>\n",
    "D) `0` or `1` or an empty array<br>\n",
    "E) None of the above"
   ]
  },
  {
   "cell_type": "markdown",
   "metadata": {
    "slideshow": {
     "slide_type": "slide"
    }
   },
   "source": [
    "This previous question was meant to address a common question / point of confusion, e.g.<br>\n",
    "\n",
    "**Q:** Can you go over the void functions a bit in class? I'm confused about the difference between a void function that prints something vs one that prints None."
   ]
  },
  {
   "cell_type": "code",
   "execution_count": null,
   "metadata": {},
   "outputs": [],
   "source": [
    "print(check_x(-4))"
   ]
  },
  {
   "cell_type": "markdown",
   "metadata": {
    "slideshow": {
     "slide_type": "slide"
    }
   },
   "source": [
    "**Poll Q2a)** What will the following print?"
   ]
  },
  {
   "cell_type": "code",
   "execution_count": null,
   "metadata": {},
   "outputs": [],
   "source": [
    "def printstuff(a, z = 1, y = 2):\n",
    "    print(len(a)*y*z)\n",
    "    \n",
    "y = 3\n",
    "x = [1,2,3,4,5]\n",
    "printstuff(x, y)"
   ]
  },
  {
   "cell_type": "markdown",
   "metadata": {},
   "source": [
    "A) Error<br>\n",
    "B) 5<br>\n",
    "C) 10<br>\n",
    "D) 15<br>\n",
    "E) 30\n",
    "    "
   ]
  },
  {
   "cell_type": "markdown",
   "metadata": {
    "slideshow": {
     "slide_type": "slide"
    }
   },
   "source": [
    "**Poll Q2b)** What will the following print?"
   ]
  },
  {
   "cell_type": "code",
   "execution_count": null,
   "metadata": {},
   "outputs": [],
   "source": [
    "def printstuff(a, z = 1, y = 2):\n",
    "    print(len(a)*y*z)\n",
    "    \n",
    "y = 3\n",
    "x = [1,2,3,4,5]\n",
    "printstuff(x, y=y)"
   ]
  },
  {
   "cell_type": "markdown",
   "metadata": {},
   "source": [
    "A) Error<br>\n",
    "B) 5<br>\n",
    "C) 10<br>\n",
    "D) 15<br>\n",
    "E) 30\n",
    "    "
   ]
  },
  {
   "cell_type": "markdown",
   "metadata": {
    "slideshow": {
     "slide_type": "slide"
    }
   },
   "source": [
    "**Poll Q2c)** What will the following print?"
   ]
  },
  {
   "cell_type": "code",
   "execution_count": null,
   "metadata": {},
   "outputs": [],
   "source": [
    "def printstuff(a, z = 1, y = 2):\n",
    "    print(len(a)*y*z)\n",
    "    \n",
    "x = [1,2,3,4,5]\n",
    "printstuff(x, y = 'Hello')"
   ]
  },
  {
   "cell_type": "markdown",
   "metadata": {},
   "source": [
    "A) HelloHelloHelloHelloHello <br>\n",
    "B) Syntax Error <br>\n",
    "C) Runtime Error <br>\n",
    "D) 5 <br>\n",
    "E) 10\n",
    "    "
   ]
  },
  {
   "cell_type": "markdown",
   "metadata": {
    "slideshow": {
     "slide_type": "slide"
    }
   },
   "source": [
    "**Poll Q3)** What will the following print?"
   ]
  },
  {
   "cell_type": "code",
   "execution_count": null,
   "metadata": {},
   "outputs": [],
   "source": [
    "def printstuff2(a, z = 1, y = 2):\n",
    "    a1, a2, a3, a4, a5 = a\n",
    "    print(a5 + a[z] + a[y])   \n",
    "x = [1,2,3,4,5]\n",
    "out = printstuff2(x)\n",
    "print(out)"
   ]
  },
  {
   "cell_type": "markdown",
   "metadata": {},
   "source": [
    "A) 10 <br>\n",
    "B) None <br>\n",
    "C) 10 <br>\n",
    "&nbsp;&nbsp;&nbsp;&nbsp;&nbsp;None<br>\n",
    "D) 10 None <br>\n",
    "E) 10, None\n",
    "    "
   ]
  },
  {
   "cell_type": "markdown",
   "metadata": {
    "slideshow": {
     "slide_type": "slide"
    }
   },
   "source": [
    "**Q:** I do not understanding how the plotting parameters in 9.4 are being plotted from the function. Basically, how do we answer 9.4..\n",
    "```python\n",
    "def euler(y, v, t, t_end, t_step):\n",
    "    ...the function does a bunch of stuff...\n",
    "    return t_list, y_list\n",
    "\n",
    "results = euler(y0, v0, t0, tmax, dt)\n",
    "\n",
    "# How do we plot time and position information?\n",
    "plt.plot(..., ...) \n",
    "```"
   ]
  },
  {
   "cell_type": "markdown",
   "metadata": {
    "slideshow": {
     "slide_type": "slide"
    }
   },
   "source": [
    "**Poll Q4)** What should the print statement be to print `4`?"
   ]
  },
  {
   "cell_type": "code",
   "execution_count": null,
   "metadata": {},
   "outputs": [],
   "source": [
    "def dostuff(a):\n",
    "    a1, a2, a3, a4, a5 = a\n",
    "    return len(a), [a4, a5]\n",
    "\n",
    "x = [1,2,3,4,5]\n",
    "y, z = dostuff(x)\n",
    "print(...)"
   ]
  },
  {
   "cell_type": "markdown",
   "metadata": {},
   "source": [
    "A) `print(z)` <br>\n",
    "B) `print(z[0])` <br>\n",
    "C) `print(z[1])`<br>\n",
    "D) `print(y[1][0])` <br>\n",
    "E) `print(y[1][1])`"
   ]
  },
  {
   "cell_type": "markdown",
   "metadata": {
    "slideshow": {
     "slide_type": "slide"
    }
   },
   "source": [
    "# The rest of today\n",
    "* Group Worksheet 09 introduces Electric Field Hockey and continues our path toward advanced techniques for modelling motion and other ODEs\n",
    "* Preclass 10 for Monday. We will start to work with `solve_ivp()`, a powerful ODE solver"
   ]
  },
  {
   "cell_type": "code",
   "execution_count": null,
   "metadata": {},
   "outputs": [],
   "source": []
  }
 ],
 "metadata": {
  "celltoolbar": "Slideshow",
  "kernelspec": {
   "display_name": "Python 3",
   "language": "python",
   "name": "python3"
  },
  "language_info": {
   "codemirror_mode": {
    "name": "ipython",
    "version": 3
   },
   "file_extension": ".py",
   "mimetype": "text/x-python",
   "name": "python",
   "nbconvert_exporter": "python",
   "pygments_lexer": "ipython3",
   "version": "3.7.6"
  }
 },
 "nbformat": 4,
 "nbformat_minor": 4
}
