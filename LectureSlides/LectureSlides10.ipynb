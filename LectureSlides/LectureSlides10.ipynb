{
 "cells": [
  {
   "cell_type": "markdown",
   "metadata": {
    "slideshow": {
     "slide_type": "slide"
    }
   },
   "source": [
    "# PHYS 210 Lecture 10 - Oct 06, 2025\n",
    "Agenda:\n",
    "\n",
    "1. Announcements\n",
    "1. Reading recap (Q&A and polling questions)\n",
    "1. Groupwork"
   ]
  },
  {
   "cell_type": "markdown",
   "metadata": {
    "slideshow": {
     "slide_type": "slide"
    }
   },
   "source": [
    "# Project 01 grading updates\n",
    "~ 1/2 of you had a Deadline #01 submission (#02 is this Thursday)\n",
    "* Nearly 1/4 of the submissions were sent back as Incomplete"
   ]
  },
  {
   "cell_type": "markdown",
   "metadata": {
    "slideshow": {
     "slide_type": "slide"
    }
   },
   "source": [
    "# Missing (most often)\n",
    "Completed work\n",
    "* \"I ran out of time so on my next submission...\"\n",
    "\n",
    "The graph communicating the **answer to the research question**\n",
    "* This should be an investigation of an outcome with respect to systematic variation of 1-2 independent variable"
   ]
  },
  {
   "cell_type": "markdown",
   "metadata": {
    "slideshow": {
     "slide_type": "slide"
    }
   },
   "source": [
    "The multi-panel visualization demonstrating **how the simulation works** for a given set of parameters\n",
    "* Most commonly how the kinematic variables vary over time\n",
    "\n",
    "**Reflections** and/or 2+ **code validation tasks**\n",
    "* Show us the paper trail of the work you did to convince yourself that your simulation works as intended"
   ]
  },
  {
   "cell_type": "markdown",
   "metadata": {
    "slideshow": {
     "slide_type": "slide"
    }
   },
   "source": [
    "## Reading recap, Q&A and polling questions\n",
    "First containers, then `solve_ivp`"
   ]
  },
  {
   "cell_type": "markdown",
   "metadata": {
    "slideshow": {
     "slide_type": "slide"
    }
   },
   "source": [
    "## Reading recap: Containers\n",
    "Data structures that can contain multiple items and types of items\n",
    "\n",
    "- Mutable – can be changed\n",
    "- Immutable – can’t be changed\n",
    "<br><br>\n",
    "- Ordered – items are in predictable order, can be accessed by slices\n",
    "- Unordered – the order is unpredictable (and usually unimportant)\n"
   ]
  },
  {
   "cell_type": "markdown",
   "metadata": {
    "slideshow": {
     "slide_type": "slide"
    }
   },
   "source": [
    "### Strings\n",
    "\n",
    "* Immutable, ordered\n",
    "* `+`, `*`, split, join \n",
    "* Aliasing (memory sharing/shallow copies) does not cause issues since they are immutable"
   ]
  },
  {
   "cell_type": "markdown",
   "metadata": {
    "slideshow": {
     "slide_type": "slide"
    }
   },
   "source": [
    "### Lists\n",
    "\n",
    "* Mutable, ordered\n",
    "* Create using `a = [ ]` or `a = list()`\n",
    "* \\*, \\+ as for strings\n",
    "* List methods: `append()`, `count()`, `extend()`, etc\n",
    "* Aliasing (memory sharing/shallow copies) can cause issues since they are mutable\n"
   ]
  },
  {
   "cell_type": "markdown",
   "metadata": {
    "slideshow": {
     "slide_type": "slide"
    }
   },
   "source": [
    "## Dictionaries\n",
    "\n",
    "* Mutable, unordered\t\n",
    "* Dictionary methods: clear(), copy(), get(), items(), keys(), values(), update(), etc"
   ]
  },
  {
   "cell_type": "code",
   "execution_count": null,
   "metadata": {},
   "outputs": [],
   "source": [
    "a = {'eyecolour': 'brown', 'height': 152.0 }\n",
    "a['eyecolour']"
   ]
  },
  {
   "cell_type": "markdown",
   "metadata": {
    "slideshow": {
     "slide_type": "slide"
    }
   },
   "source": [
    "### Q. Why use tuples? \n",
    "Once you've created a tuple, **you can't change it** (can't add elements, change them, remove them, etc).\n",
    "\n",
    "Generally you want to use lists ot hold information you are going to manipulate, and use tuples when you don't want the informaiton to be changed accidentally\n",
    "\n",
    "Example: RGB color constants\n",
    "* RED = (255, 0, 0)\n",
    "* GREEN = (0, 255, 0)"
   ]
  },
  {
   "cell_type": "markdown",
   "metadata": {
    "slideshow": {
     "slide_type": "slide"
    }
   },
   "source": [
    "### In-place operations vs new object creation\n",
    "\n",
    "Variables that contain multiple values can have multiple names.\n",
    "+ `a = [1, 2, 3]`, `b = a`: `a` and `b` are different names for the same list.\n",
    "+ If instead we’d said: `b = a * 1` then b and a would be different objects.\n",
    "+ After setting `b = a`, operations like: `a += [1]` and `a[0] = 5` change both a and b ('in place' operations).\n",
    "+ However, `a = a + 1` will create a new variable `a`.\n",
    "\n",
    "You will usually want to use `b = a.copy()` instead of `a = b` when making copies of mutable containiners such as lists or arrays"
   ]
  },
  {
   "cell_type": "markdown",
   "metadata": {
    "slideshow": {
     "slide_type": "slide"
    }
   },
   "source": [
    "### New variable example\n",
    "The new list created by `a = a + [5]` exists only inside the function"
   ]
  },
  {
   "cell_type": "code",
   "execution_count": null,
   "metadata": {},
   "outputs": [],
   "source": [
    "def do_nothing(a):\n",
    "    a = a + [5]\n",
    "    print(\"inside a:\", a)\n",
    "\n",
    "a = [ 1, 2, 3]\n",
    "do_nothing(a)\n",
    "print(\"outside a:\", a)"
   ]
  },
  {
   "cell_type": "markdown",
   "metadata": {
    "slideshow": {
     "slide_type": "slide"
    }
   },
   "source": [
    "### In place example\n",
    "Here the `a += 5` does its work 'in place'. Changes to the list inside the function are also seen outside of the function:"
   ]
  },
  {
   "cell_type": "code",
   "execution_count": null,
   "metadata": {},
   "outputs": [],
   "source": [
    "def add5(a):\n",
    "    a += [5]\n",
    "    print(\"inside a:\", a)\n",
    "    \n",
    "a = [ 1, 2, 3]\n",
    "\n",
    "add5(a)\n",
    "print(\"outside a:\", a)"
   ]
  },
  {
   "cell_type": "markdown",
   "metadata": {
    "slideshow": {
     "slide_type": "slide"
    }
   },
   "source": [
    "### Another in place example\n",
    "All operations are 'in place', so the changes to the list inside the function are also seen outside of the function:"
   ]
  },
  {
   "cell_type": "code",
   "execution_count": null,
   "metadata": {},
   "outputs": [],
   "source": [
    "def swap(a):\n",
    "    b = a[0]\n",
    "    a[0] = a[1]\n",
    "    a[1] = b\n",
    "\n",
    "a = [ 1, 2, 3]\n",
    "\n",
    "swap(a)\n",
    "print(a)"
   ]
  },
  {
   "cell_type": "markdown",
   "metadata": {
    "slideshow": {
     "slide_type": "slide"
    }
   },
   "source": [
    "### Q: I don't know what happens when you put a function inside a function\n"
   ]
  },
  {
   "cell_type": "code",
   "execution_count": null,
   "metadata": {},
   "outputs": [],
   "source": [
    "def greet(name):\n",
    "    return f\"Hello {name}!\"\n",
    "\n",
    "def dismiss(name):\n",
    "    return f\"Go away {name}!\"\n",
    "\n",
    "def call_func(func, argument):\n",
    "    my_string = func(argument)\n",
    "    return my_string\n",
    "\n",
    "result = call_func(greet, \"Joss\") # pass the function as an argument\n",
    "print(result)"
   ]
  },
  {
   "cell_type": "markdown",
   "metadata": {},
   "source": [
    "In `solve_ivp` and `optimize.curve_fit` (after project 2) we will see that this is how we communicate equations and relationships to those functions"
   ]
  },
  {
   "cell_type": "markdown",
   "metadata": {
    "slideshow": {
     "slide_type": "slide"
    }
   },
   "source": [
    "### The main types of questions we were getting for `solve_ivp` and event handling\n",
    "* What are the parameters?\n",
    "* What is it doing with the array that is being passed to it?\n",
    "* How does event handling work?\n",
    "\n",
    "**Let's head back to the preclass assignment with these questions in mind**"
   ]
  },
  {
   "cell_type": "markdown",
   "metadata": {
    "slideshow": {
     "slide_type": "slide"
    }
   },
   "source": [
    "## Group activity\n",
    "* More Electric Field Hockey, but now using solve_ivp()"
   ]
  }
 ],
 "metadata": {
  "celltoolbar": "Slideshow",
  "kernelspec": {
   "display_name": "Python 3",
   "language": "python",
   "name": "python3"
  },
  "language_info": {
   "codemirror_mode": {
    "name": "ipython",
    "version": 3
   },
   "file_extension": ".py",
   "mimetype": "text/x-python",
   "name": "python",
   "nbconvert_exporter": "python",
   "pygments_lexer": "ipython3",
   "version": "3.7.6"
  }
 },
 "nbformat": 4,
 "nbformat_minor": 4
}
