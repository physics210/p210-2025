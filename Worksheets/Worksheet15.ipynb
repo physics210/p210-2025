{
 "cells": [
  {
   "cell_type": "markdown",
   "metadata": {},
   "source": [
    "# Day 15 Group Worksheet\n",
    "Oct 27, 2025\n",
    "\n",
    "If you're working on CoCalc, it's good to rename your notebook with a fun group name and to include your names below so that you can easily find it later for reference."
   ]
  },
  {
   "cell_type": "markdown",
   "metadata": {},
   "source": [
    "* Group members:"
   ]
  },
  {
   "cell_type": "markdown",
   "metadata": {},
   "source": [
    "## *Plinko*"
   ]
  },
  {
   "cell_type": "markdown",
   "metadata": {},
   "source": [
    "Plinko is a game from the game show The Price is Right where a puck is placed into the top of a board with pegs in it. As the puck falls down the board, it hits the pegs and shifts to the right or the left with equal probability. Traditionally, If the puck hits the edge of the board, a bumper pushes it back to the last spot again. There are buckets at the bottom of the board for the puck to fall into with various prizes. But you can also play Plinko with a triangular board so the puck can never fall out "
   ]
  },
  {
   "cell_type": "markdown",
   "metadata": {},
   "source": [
    "## *Task 1: Triangular Plinko*\n",
    "\n",
    "![Triangular Plinko](https://i.ibb.co/28pGMgb/triangular-plinko.png)\n",
    "\n",
    "Use a Monte-Carlo simulation to simulate what happens on a Triangular Plinko board with 9 buckets, as shown above (image captured from https://phet.colorado.edu/sims/html/plinko-probability/latest/plinko-probability_en.html). \n",
    "1. Create a final bar chart (`plt.bar()`) or histogram (`plt.hist()`) that shows how many times the puck falls into each of the final bins. See some example code for each type of chart below.\n",
    "2. As a comparison to your random data, add the expected results to your plot., which should be based on binomial distribution."
   ]
  },
  {
   "cell_type": "code",
   "execution_count": null,
   "metadata": {},
   "outputs": [],
   "source": []
  },
  {
   "cell_type": "markdown",
   "metadata": {},
   "source": [
    "## *Task 2: Rectangular Plinko, with bumpers*\n",
    "In The Price is Right version of Plinko, the board is rectangular in shape, with 9 possible start positions and 9 buckets. It uses bumpers on the walls so that for certain positions along the wall, the puck only has one choice of path instead of two, as shown below (image captured from https://games.washingtonpost.com/games/price-is-right-plinko)\n",
    "\n",
    "![Plinko](https://i.ibb.co/sqqpg9G/plinko.png)\n",
    "\n",
    "There are 9 possible starting positions, based on the spaces in-between adjacent pegs in the top row, and the left-most or right-most pegs and the wall. After passing through this first row of pegs (where no randomness has yet happened), the puck will encounter 12 subsequent rows of pegs where randomness will occur.\n",
    "\n",
    "Build your Monte-Carlo simulation so that you can choose any starting position and then run $N$ simulations:\n",
    "\n",
    "1. Create a final bar graph of histogram showing how many times the puck falls into each bin. Show the results for at least three different starting positions. \n",
    "   * Alternatively, build a heat map showing the frequency at which the puck falls into each final bin, based on the starting bin\n",
    "2. Calculate the expectation value (average winnings) for each possible starting position. Express this using a visualization or print statements."
   ]
  },
  {
   "cell_type": "code",
   "execution_count": null,
   "metadata": {},
   "outputs": [],
   "source": []
  },
  {
   "cell_type": "markdown",
   "metadata": {},
   "source": [
    "# Bar chart and histogram examples"
   ]
  },
  {
   "cell_type": "code",
   "execution_count": null,
   "metadata": {},
   "outputs": [],
   "source": [
    "# Bar chart and histogram examples\n",
    "import numpy as np\n",
    "import matplotlib.pyplot as plt\n",
    "\n",
    "# 10,000 random numbers from 0-4, inclusive\n",
    "randos = np.random.randint(0, 5, size=10000)\n",
    "\n",
    "### Plot 1: Bar chart\n",
    "\n",
    "# Find out how many counts happened for each value 0-4\n",
    "bins, counts = np.unique(randos, return_counts=True)\n",
    "\n",
    "# Bar chart with\n",
    "# - bins specifying the names of each bin\n",
    "# - counts specifying how tall the bar should be for each bin\n",
    "plt.bar(bins, counts)\n",
    "plt.show()\n",
    "\n",
    "### Plot 2: Bar chart with string names\n",
    "\n",
    "bin_names = ['Zero', 'One', 'Two', 'Three', 'Four']\n",
    "plt.bar(bin_names, counts)\n",
    "plt.show()\n",
    "\n",
    "### Plot 3: Histogram with bins specified\n",
    "\n",
    "# In a histogram, bins are defined by the intervals between the edeges. Convetion:\n",
    "#  • [left, right) - includes the left edge, excludes the right edge\n",
    "#  • Exception: The rightmost bin is [left, right] - closed on both ends\n",
    "# So we need to include bin edges out to 5, e.g., 'bins=range(6)'\n",
    "\n",
    "plt.hist(randos, bins=range(6), rwidth=0.8)\n",
    "plt.show()"
   ]
  }
 ],
 "metadata": {
  "kernelspec": {
   "display_name": "Python 3",
   "language": "python",
   "name": "python3"
  },
  "language_info": {
   "codemirror_mode": {
    "name": "ipython",
    "version": 3
   },
   "file_extension": ".py",
   "mimetype": "text/x-python",
   "name": "python",
   "nbconvert_exporter": "python",
   "pygments_lexer": "ipython3",
   "version": "3.7.6"
  }
 },
 "nbformat": 4,
 "nbformat_minor": 4
}
