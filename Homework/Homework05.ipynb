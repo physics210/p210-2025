{
 "cells": [
  {
   "cell_type": "markdown",
   "metadata": {
    "collapsed": true,
    "id": "-94MVQDSk-Qe",
    "nbgrader": {
     "grade": false,
     "grade_id": "cell-1d46bd574f1f3b7e",
     "locked": true,
     "schema_version": 3,
     "solution": false,
     "task": false
    }
   },
   "source": [
    "# PHYS 210, Homework 05\n",
    "Due Monday, Sep 22, 2025 at the start of class on Canvas"
   ]
  },
  {
   "cell_type": "markdown",
   "metadata": {
    "id": "1W0hZo3ck-Qk",
    "nbgrader": {
     "grade": false,
     "grade_id": "array_creation0",
     "locked": true,
     "schema_version": 3,
     "solution": false,
     "task": false
    }
   },
   "source": [
    "## *About this homework assignment*\n",
    "\n",
    "This homework assignment is designed to get everybody started on their Project 01. It is considered Stage 1 of a 3-stage process in developing your project, as described in the [Project 01 - Destructive Collisions: Instructions & Assessment Guidelines](https://physics210.github.io/p210-2025/Project01-instructions_and_assessment.html) document."
   ]
  },
  {
   "cell_type": "markdown",
   "metadata": {},
   "source": [
    "### Task 1: Fix the starter code\n",
    "Update the starter code in the \"Your Task 1 and Task 2 code\" cell below so that the collision between the two objects is handled correctly."
   ]
  },
  {
   "cell_type": "markdown",
   "metadata": {},
   "source": [
    "### Task 2: Add plots\n",
    "Add one or more well-labeled and **well-captioned plots** (not animations) that show the kinematic behaviour of the two objects. We want to see a \"new-style\" caption (see https://www.internationalscienceediting.com/how-to-write-a-figure-caption/) that provides both the context and an interpretation of what is shown in the graph. It should not be just a passive description of the variables shown. Communicate a take-away message to the reader!\n",
    "\n",
    "It’s up to you exactly what you plot, but the idea is that these plots provide you (and the reader) with insight into the behaviour of these objects within the simulation. These types of plots can also be extremely valuable in troubleshooting your code, or otherwise validating that your simulation is behaving as intended."
   ]
  },
  {
   "cell_type": "markdown",
   "metadata": {},
   "source": [
    "### Task 3: Test that your code handles a range of initial conditions and parameters well\n",
    "Copy your working code into the Task 3 cells below.\n",
    "\n",
    "Try at least two different sets of initial conditions that you feel could result in unexpected behaviour in your simulation. Examples include making values–such as the initial kinematic quantities or physical properties—significantly smaller or larger than the ones provided. In each case describe which values you changed, why you thought these values might result in unexpected behaviour, and if they did actually result in any unexpected behaviour. If the unexpected behaviour is something that should be fixed, try your best to fix it."
   ]
  },
  {
   "cell_type": "markdown",
   "metadata": {},
   "source": [
    "## *Your Task 1 and Task 2 code*\n",
    "\n",
    "Modify the code below as much as needed to accomplish each task. There is a backup copy of the code at the bottom of the document for reference. Add additional cells to this section as needed"
   ]
  },
  {
   "cell_type": "code",
   "execution_count": null,
   "metadata": {},
   "outputs": [],
   "source": [
    "### Starter code for Project 01\n",
    "\n",
    "import numpy as np\n",
    "\n",
    "# Constants\n",
    "t0 = 0      # s\n",
    "dt = 0.1    # s\n",
    "t_max = 100 # s\n",
    "n_steps = int( (t_max - t0) / dt) + 1 # Total number of steps\n",
    "left_barrier = -10 # m\n",
    "right_barrier = 10 # m\n",
    "\n",
    "# Arrays to save simulation information\n",
    "t = np.zeros(n_steps)\n",
    "x1 = np.zeros(n_steps)\n",
    "x2 = np.zeros(n_steps)\n",
    "v1 = np.zeros(n_steps)\n",
    "v2 = np.zeros(n_steps)\n",
    "\n",
    "# Object 1\n",
    "x1_initial = -5 # m\n",
    "v1_initial = 2  # m/s\n",
    "r1 = 0.05 # m\n",
    "m1 = .01 # kg\n",
    "x1[0] = x1_initial \n",
    "v1[0] = v1_initial \n",
    "\n",
    "# Object 2\n",
    "x2_initial = 7  # m\n",
    "v2_initial = -1 # m /s\n",
    "r2 = 0.02 # m\n",
    "m2 = .001 # kg\n",
    "x2[0] = x2_initial \n",
    "v2[0] = v2_initial \n",
    "\n",
    "\n",
    "for i in range(1,n_steps):\n",
    "    \n",
    "    # Update kinematic variable for both objects\n",
    "    x1[i] = x1[i-1] + v1[i-1] * dt\n",
    "    x2[i] = x2[i-1] + v2[i-1] * dt\n",
    "    v1[i] = v1[i-1]\n",
    "    v2[i] = v2[i-1]\n",
    "    t[i]  =  t[i-1] + dt\n",
    "\n",
    "    # Check for collisions and update kinematic quantities as needed\n",
    "    if x1[i] + r1 >= right_barrier or x1[i] - r1 <= left_barrier:\n",
    "        v1[i] = -v1[i]\n",
    "\n",
    "    if x2[i] + r2 >= right_barrier or x2[i] - r2 <= left_barrier:\n",
    "        v2[i] = -v2[i]"
   ]
  },
  {
   "cell_type": "markdown",
   "metadata": {},
   "source": [
    "**Fig 1.** (your caption text here)"
   ]
  },
  {
   "cell_type": "markdown",
   "metadata": {},
   "source": [
    "## *Your Task 3 code*\n"
   ]
  },
  {
   "cell_type": "markdown",
   "metadata": {},
   "source": [
    "### Your first set of new initial conditions"
   ]
  },
  {
   "cell_type": "code",
   "execution_count": null,
   "metadata": {},
   "outputs": [],
   "source": [
    "# Copy your Task 1+2 code into this cell and modify it with new initial conditions\n",
    "# and any necessary diagnostic output. Insert additional cells as needed. \n"
   ]
  },
  {
   "cell_type": "markdown",
   "metadata": {},
   "source": [
    "#### Describe which values you changed, why you thought these values might result in unexpected behaviour, and if they did actually result in any unexpected behaviour."
   ]
  },
  {
   "cell_type": "markdown",
   "metadata": {},
   "source": []
  },
  {
   "cell_type": "markdown",
   "metadata": {},
   "source": [
    "### Your second set of new initial conditions"
   ]
  },
  {
   "cell_type": "code",
   "execution_count": null,
   "metadata": {},
   "outputs": [],
   "source": [
    "# Copy your Task 1+2 code into this cell and modify it with new initial conditions\n",
    "# and any necessary diagnostic output. Insert additional cells as needed. \n"
   ]
  },
  {
   "cell_type": "markdown",
   "metadata": {},
   "source": [
    "#### Describe which values you changed, why you thought these values might result in unexpected behaviour, and if they did actually result in any unexpected behaviour."
   ]
  },
  {
   "cell_type": "markdown",
   "metadata": {},
   "source": []
  },
  {
   "cell_type": "markdown",
   "metadata": {},
   "source": [
    "## *Completing Homework 05 and submitting it to Canvas*\n",
    "Before submitting your work, restart + rerun your entire notebook to make sure that everything runs correctly and without error.\n",
    "\n",
    "To do this:\n",
    "1. **Restart & Run All:** From the \"Kernel\" menu to the right of the \"Cell\" menu, select \"Restart & Run All\". This will restart the python Kernel, erasing all variables currently stored in memory so that when you \"Run All\" cells, you can ensure that if you were to run your notebook again on a later day, it would run as intended.\n",
    "1. Look through the whole notebook and make sure there are no errors. Many questions have purposeful errors in the distributed version so make sure you have fixed them all such that \"Restart & Run All\" will run through the whole book and successfully print \"The notebook ran without errors\" at the end. If you have any trouble resolving the errors, please ask one of your classmates or ask us in class or on Piazza.\n",
    "\n",
    "**Export notebook as HTML:** After you've executed and checked your notebook, choose: File => Save_and_Export_Notebook_As => HTML. This will download an HTML version of your notebook to your computer. This version is can not be executed or modified. You may need to disable any pop-up blockers to allow the file to be downloaded.\n",
    "\n",
    "**Submit to Canvas:** Submit the html file that you just downloaded AND your .ipynb file to the Homework 05 submission quiz on Canvas."
   ]
  },
  {
   "cell_type": "markdown",
   "metadata": {},
   "source": [
    "## *Backup copy of the starter code for Project 01*\n",
    "```python\n",
    "### Starter code for Project 01\n",
    "\n",
    "import numpy as np\n",
    "\n",
    "# Constants\n",
    "t0 = 0      # s\n",
    "dt = 0.1    # s\n",
    "t_max = 100 # s\n",
    "n_steps = int( (t_max - t0) / dt) + 1 # Total number of steps\n",
    "left_barrier = -10 # m\n",
    "right_barrier = 10 # m\n",
    "\n",
    "# Arrays to save simulation information\n",
    "t = np.zeros(n_steps)\n",
    "x1 = np.zeros(n_steps)\n",
    "x2 = np.zeros(n_steps)\n",
    "v1 = np.zeros(n_steps)\n",
    "v2 = np.zeros(n_steps)\n",
    "\n",
    "# Object 1\n",
    "x1_initial = -5 # m\n",
    "v1_initial = 2  # m/s\n",
    "r1 = 0.05 # m\n",
    "m1 = .01 # kg\n",
    "x1[0] = x1_initial \n",
    "v1[0] = v1_initial \n",
    "\n",
    "# Object 2\n",
    "x2_initial = 7  # m\n",
    "v2_initial = -1 # m /s\n",
    "r2 = 0.02 # m\n",
    "m2 = .001 # kg\n",
    "x2[0] = x2_initial \n",
    "v2[0] = v2_initial \n",
    "\n",
    "\n",
    "for i in range(1,n_steps):\n",
    "    \n",
    "    # Update kinematic variable for both objects\n",
    "    x1[i] = x1[i-1] + v1[i-1] * dt\n",
    "    x2[i] = x2[i-1] + v2[i-1] * dt\n",
    "    v1[i] = v1[i-1]\n",
    "    v2[i] = v2[i-1]\n",
    "    t[i]  =  t[i-1] + dt\n",
    "\n",
    "    # Check for collisions and update kinematic quantities as needed\n",
    "    if x1[i] + r1 >= right_barrier or x1[i] - r1 <= left_barrier:\n",
    "        v1[i] = -v1[i]\n",
    "\n",
    "    if x2[i] + r2 >= right_barrier or x2[i] - r2 <= left_barrier:\n",
    "        v2[i] = -v2[i]\n",
    "```"
   ]
  },
  {
   "cell_type": "code",
   "execution_count": null,
   "metadata": {},
   "outputs": [],
   "source": []
  }
 ],
 "metadata": {
  "celltoolbar": "Create Assignment",
  "colab": {
   "provenance": []
  },
  "kernelspec": {
   "display_name": "Python 3",
   "language": "python",
   "name": "python3"
  },
  "language_info": {
   "codemirror_mode": {
    "name": "ipython",
    "version": 3
   },
   "file_extension": ".py",
   "mimetype": "text/x-python",
   "name": "python",
   "nbconvert_exporter": "python",
   "pygments_lexer": "ipython3",
   "version": "3.7.6"
  },
  "nbgrader": {
   "__altered": false,
   "__hash": 782104853,
   "_root": {
    "entries": [
     [
      "size",
      6
     ],
     [
      "_root",
      {
       "entries": [
        [
         "size",
         1
        ],
        [
         "_root",
         {
          "entries": [
           [
            "cocalc_minimal_stubs",
            false
           ]
          ],
          "ownerID": {}
         }
        ],
        [
         "__ownerID",
         null
        ],
        [
         "__hash",
         -335098374
        ],
        [
         "__altered",
         false
        ],
        [
         "cocalc_minimal_stubs",
         false
        ]
       ],
       "ownerID": {}
      }
     ],
     [
      "__hash",
      633336276
     ],
     [
      "__altered",
      false
     ],
     [
      "cocalc_minimal_stubs",
      false
     ]
    ],
    "ownerID": {}
   },
   "cocalc_minimal_stubs": false,
   "size": 5
  }
 },
 "nbformat": 4,
 "nbformat_minor": 1
}
